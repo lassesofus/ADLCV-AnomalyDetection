{
 "cells": [
  {
   "cell_type": "code",
   "execution_count": 1,
   "metadata": {},
   "outputs": [],
   "source": [
    "import torch\n",
    "import torch.nn\n",
    "import numpy as np\n",
    "import os\n",
    "import os.path\n",
    "import nibabel\n",
    "import pdb\n",
    "from scipy import ndimage"
   ]
  },
  {
   "cell_type": "code",
   "execution_count": 9,
   "metadata": {},
   "outputs": [],
   "source": [
    "flair = torch.tensor(nibabel.load('org_data/MICCAI_BraTS2020_TrainingData/BraTS20_Training_041/BraTS20_Training_041_flair.nii.gz').get_fdata())\n",
    "seg = torch.tensor(nibabel.load('org_data/MICCAI_BraTS2020_TrainingData/BraTS20_Training_041/BraTS20_Training_041_seg.nii.gz').get_fdata())\n",
    "t1 = torch.tensor(nibabel.load('org_data/MICCAI_BraTS2020_TrainingData/BraTS20_Training_041/BraTS20_Training_041_t1.nii.gz').get_fdata())\n",
    "t1ce = torch.tensor(nibabel.load('org_data/MICCAI_BraTS2020_TrainingData/BraTS20_Training_041/BraTS20_Training_041_t1ce.nii.gz').get_fdata())\n",
    "t2 = torch.tensor(nibabel.load('org_data/MICCAI_BraTS2020_TrainingData/BraTS20_Training_041/BraTS20_Training_041_t2.nii.gz').get_fdata())\n"
   ]
  },
  {
   "cell_type": "code",
   "execution_count": 11,
   "metadata": {},
   "outputs": [
    {
     "name": "stdout",
     "output_type": "stream",
     "text": [
      "tensor(False)\n",
      "tensor(False)\n",
      "tensor(False)\n",
      "tensor(False)\n",
      "tensor(False)\n"
     ]
    }
   ],
   "source": [
    "# Check if any of the tensors have NaN values\n",
    "print(torch.isnan(flair).any())\n",
    "print(torch.isnan(seg).any())\n",
    "print(torch.isnan(t1).any())\n",
    "print(torch.isnan(t1ce).any())\n",
    "print(torch.isnan(t2).any())"
   ]
  },
  {
   "cell_type": "code",
   "execution_count": 6,
   "metadata": {},
   "outputs": [
    {
     "data": {
      "text/plain": [
       "torch.Size([240, 240, 155])"
      ]
     },
     "execution_count": 6,
     "metadata": {},
     "output_type": "execute_result"
    }
   ],
   "source": [
    "import nibabel as nib\n",
    "\n",
    "nib_img = nibabel.load('org_data/MICCAI_BraTS2020_TrainingData/BraTS20_Training_001/BraTS20_Training_001_flair.nii.gz')\n",
    "torch.tensor(nib_img.get_fdata()).shape"
   ]
  },
  {
   "cell_type": "code",
   "execution_count": 10,
   "metadata": {},
   "outputs": [
    {
     "name": "stdout",
     "output_type": "stream",
     "text": [
      "[]\n",
      "[]\n",
      "['000247-label.nii.gz', '000248-label.nii.gz']\n",
      "[]\n",
      "['brats_train_006_t1_081_w.nii.gz', 'brats_train_006_t2_081_w.nii.gz', 'brats_train_006_t1ce_081_w.nii.gz', 'brats_train_006_flair_081_w.nii.gz']\n",
      "['brats_train_006_t1ce_082_w.nii.gz', 'brats_train_006_flair_082_w.nii.gz', 'brats_train_006_t2_082_w.nii.gz', 'brats_train_006_t1_082_w.nii.gz']\n",
      "[]\n",
      "['brats_train_001_t2_081_w.nii.gz', 'brats_train_001_t1_081_w.nii.gz', 'brats_train_001_seg_081_w.nii.gz', 'brats_train_001_flair_081_w.nii.gz', 'brats_train_001_t1ce_081_w.nii.gz']\n",
      "['brats_train_001_seg_082_w.nii.gz', 'brats_train_001_t1ce_082_w.nii.gz', 'brats_train_001_flair_082_w.nii.gz', 'brats_train_001_t1_082_w.nii.gz', 'brats_train_001_t2_082_w.nii.gz']\n",
      "['brats_train_001_t1ce_083_w.nii.gz', 'brats_train_001_t2_083_w.nii.gz', 'brats_train_001_flair_083_w.nii.gz', 'brats_train_001_t1_083_w.nii.gz', 'brats_train_001_seg_083_w.nii.gz']\n",
      "['brats_train_001_seg_080_w.nii.gz', 'brats_train_001_t1_080_w.nii.gz', 'brats_train_001_t2_080_w.nii.gz', 'brats_train_001_t1ce_080_w.nii.gz', 'brats_train_001_flair_080_w.nii.gz']\n",
      "[]\n",
      "[]\n",
      "['patient01104_study1.npy']\n",
      "['patient05883_study2.npy']\n",
      "[]\n",
      "['patient00488_study1.npy', 'patient00486_study1.npy', 'patient00485_study2.npy']\n",
      "['patient00124_study2.npy', 'patient00128_study3.npy', 'patient00122_study6.npy']\n"
     ]
    }
   ],
   "source": [
    "\n",
    "for root, dirs, files in os.walk('data'):\n",
    "    print(files)"
   ]
  }
 ],
 "metadata": {
  "kernelspec": {
   "display_name": "Python 3 (ipykernel)",
   "language": "python",
   "name": "python3"
  },
  "language_info": {
   "codemirror_mode": {
    "name": "ipython",
    "version": 3
   },
   "file_extension": ".py",
   "mimetype": "text/x-python",
   "name": "python",
   "nbconvert_exporter": "python",
   "pygments_lexer": "ipython3",
   "version": "3.9.17"
  }
 },
 "nbformat": 4,
 "nbformat_minor": 2
}
